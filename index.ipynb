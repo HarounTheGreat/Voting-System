{
 "cells": [
  {
   "cell_type": "markdown",
   "metadata": {},
   "source": [
    "# Problem\n",
    "the problem is Manually analyzing customers feedback and reviews for businesses results in imprecise, time-consuming, and misleading data that may negatively impact business revenue.\n",
    "# my solution:\n",
    "Obtain feedback from the massive amount of social media comments by constructing \n",
    "data set of your customers comments determine their openion and even your competitor's"
   ]
  },
  {
   "cell_type": "markdown",
   "metadata": {},
   "source": [
    "Import library "
   ]
  },
  {
   "cell_type": "code",
   "execution_count": 1,
   "metadata": {},
   "outputs": [],
   "source": [
    "import pandas as pd\n",
    "import numpy as np\n",
    "import matplotlib.pyplot as plt\n",
    "from openpyxl import Workbook\n",
    "import xlsxwriter\n",
    "import random"
   ]
  },
  {
   "cell_type": "markdown",
   "metadata": {},
   "source": [
    "### uploading the dataset: \n",
    "Population in every state: Population by state\n",
    "\n",
    "\n",
    "|Variable   | Explanation                     |\n",
    "|-----------|---------------------------------|\n",
    "|   N       |Number uniquely assigned to each State|\n",
    "|State      | State name                       |\n",
    "|Population | Population in this state        |\n",
    "\n",
    "\n",
    "Tunisia: This file contains cities name in tunisia \n",
    "\n",
    "|Variable   | Explanation                     |\n",
    "|-----------|---------------------------------|\n",
    "|   N       | Number uniquely assigned to each State|\n",
    "|Governorate| State Name                      |\n",
    "|Cities     | city name in this state         |"
   ]
  },
  {
   "cell_type": "code",
   "execution_count": 2,
   "metadata": {},
   "outputs": [],
   "source": [
    "Tunisia=pd.read_excel(r\"./Data/Tunisia.xlsx\")\n",
    "Tn_State=pd.read_excel(r\"./Data/Population in every state.xlsx\")"
   ]
  },
  {
   "cell_type": "markdown",
   "metadata": {},
   "source": [
    "### prepare to create a new excel sheet \n"
   ]
  },
  {
   "cell_type": "code",
   "execution_count": 3,
   "metadata": {},
   "outputs": [],
   "source": [
    "workbook = xlsxwriter.Workbook('./Data/simulation.xlsx')\n",
    "worksheet = workbook.add_worksheet()"
   ]
  },
  {
   "cell_type": "markdown",
   "metadata": {},
   "source": [
    "This what we want to create simulation votting data\n",
    "\n",
    "|    | Variable   | Explanation                                                |\n",
    "|---:|:-----------|:-----------------------------------------------------------|\n",
    "|  0 | Id      | Number uniquely assigned to each voter                                      |\n",
    "|  1 | Opinion      | Opinion Yes or No                                      |\n",
    "|  2 | Age      | Voter Age                                      |\n",
    "|  3 | DateByY_M_D      | Date of Vote : Year/Month/Day                       |\n",
    "|  4 | Hour      | The Houre when vote is send                       |\n",
    "|  5 | City      | The city of the voter                       |\n"
   ]
  },
  {
   "cell_type": "code",
   "execution_count": 4,
   "metadata": {},
   "outputs": [
    {
     "data": {
      "text/plain": [
       "0"
      ]
     },
     "execution_count": 4,
     "metadata": {},
     "output_type": "execute_result"
    }
   ],
   "source": [
    "worksheet.write('A1', 'N°')\n",
    "worksheet.write('B1', 'Vote')\n",
    "worksheet.write('C1', 'Age')\n",
    "worksheet.write('D1', 'DateByY_M_D')\n",
    "worksheet.write('E1', 'Hour')\n",
    "worksheet.write('F1', 'City')"
   ]
  },
  {
   "cell_type": "markdown",
   "metadata": {},
   "source": [
    "Create lite Date containe all Date (1 week) \n",
    "\n",
    "between :\n",
    "1est of Novermber 2022 and 7th of Novermber 2022"
   ]
  },
  {
   "cell_type": "code",
   "execution_count": 5,
   "metadata": {},
   "outputs": [],
   "source": [
    "Date=[]\n",
    "for i in range(1,8):\n",
    "    t=\"2019-1\"+\"1\"+\"-\"+str(i)\n",
    "    Date.append(t)\n",
    "Op=[\"Yes\",\"Yes\",\"No\"]"
   ]
  },
  {
   "cell_type": "markdown",
   "metadata": {},
   "source": [
    "Create List to save percentage of population in every state \n",
    "\n",
    "(we do that to know which state is more popular so it's going to have more voter  )"
   ]
  },
  {
   "cell_type": "code",
   "execution_count": 6,
   "metadata": {},
   "outputs": [],
   "source": [
    "Tot=Tn_State['Poplation'].sum()\n",
    "List=[]\n",
    "for i in Tn_State['Poplation']:\n",
    "    R=i*100/Tot\n",
    "    List.append(R*10)\n",
    "Tn_State['Per_State']=List"
   ]
  },
  {
   "cell_type": "markdown",
   "metadata": {},
   "source": [
    "Create list contain all state in tunisia"
   ]
  },
  {
   "cell_type": "code",
   "execution_count": 7,
   "metadata": {},
   "outputs": [],
   "source": [
    "R_State=[]\n",
    "for j in range(24):\n",
    "    for k in range(round(Tn_State['Per_State'][j])):\n",
    "        stat=Tn_State['State'][j]\n",
    "        R_State.append(stat)"
   ]
  },
  {
   "cell_type": "markdown",
   "metadata": {},
   "source": [
    "Create dictionary contains all states as key and all cities\n",
    "\n",
    "**Exp:**\n",
    "\n",
    "\"Zaghouan\" : \"El Fahs\", \"Djebel Oust\", \"Bir Mcherga\", \"Nadhour\",\"Zaghouan\" , \"Zriba\""
   ]
  },
  {
   "cell_type": "code",
   "execution_count": 8,
   "metadata": {},
   "outputs": [],
   "source": [
    "All_State=[\"l'Ariana\"]\n",
    "S=\"l'Ariana\"\n",
    "Disc={}\n",
    "L=[]\n",
    "for i in range(264):\n",
    "    if(S==Tunisia['Governorate'][i]):\n",
    "        L.append(Tunisia['Cities'][i])\n",
    "    else:\n",
    "        S=Tunisia['Governorate'][i]\n",
    "        Disc[Tunisia['Governorate'][i-1]]=L\n",
    "        L=[]\n",
    "        L.append(Tunisia['Cities'][i])\n",
    "        All_State.append(S)\n",
    "Disc[Tunisia['Governorate'][i-1]]=L"
   ]
  },
  {
   "cell_type": "markdown",
   "metadata": {},
   "source": [
    "Verification "
   ]
  },
  {
   "cell_type": "code",
   "execution_count": 9,
   "metadata": {},
   "outputs": [
    {
     "name": "stdout",
     "output_type": "stream",
     "text": [
      "24\n"
     ]
    }
   ],
   "source": [
    "print(len(All_State))"
   ]
  },
  {
   "cell_type": "markdown",
   "metadata": {},
   "source": [
    "Now we are going to fill our new Excel sheet using random responses from virtual voters\n"
   ]
  },
  {
   "cell_type": "code",
   "execution_count": 10,
   "metadata": {},
   "outputs": [],
   "source": [
    "Votters=int(input(\"Please enter the number of voters\"))"
   ]
  },
  {
   "cell_type": "code",
   "execution_count": 11,
   "metadata": {},
   "outputs": [],
   "source": [
    "for i in range(2,Votters):\n",
    "    ii=str(i)\n",
    "    A='A'+ii\n",
    "    B='B'+ii\n",
    "    C='C'+ii\n",
    "    D='D'+ii\n",
    "    E='E'+ii\n",
    "    F='F'+ii\n",
    "    A1 = ii\n",
    "    B1 = random.choice(Op)\n",
    "    C1 = random.randint(18,90)\n",
    "    D1 = random.choice(Date)\n",
    "    E1 = random.randint(1,24)\n",
    "    Random_State=random.choice(All_State)\n",
    "    Random_State_city = random.choice(Disc[Random_State])\n",
    "    F1=Random_State_city+', '+Random_State+\", Tunisia\" \n",
    "    worksheet.write(A, A1)\n",
    "    worksheet.write(B, B1)\n",
    "    worksheet.write(C, C1)\n",
    "    worksheet.write(D, D1)\n",
    "    worksheet.write(E, E1)\n",
    "    worksheet.write(F, F1)"
   ]
  },
  {
   "cell_type": "markdown",
   "metadata": {},
   "source": [
    "Final Step Save the CSV document"
   ]
  },
  {
   "cell_type": "code",
   "execution_count": 12,
   "metadata": {},
   "outputs": [],
   "source": [
    "workbook.close()"
   ]
  }
 ],
 "metadata": {
  "kernelspec": {
   "display_name": "Python 3.9.13 ('base')",
   "language": "python",
   "name": "python3"
  },
  "language_info": {
   "codemirror_mode": {
    "name": "ipython",
    "version": 3
   },
   "file_extension": ".py",
   "mimetype": "text/x-python",
   "name": "python",
   "nbconvert_exporter": "python",
   "pygments_lexer": "ipython3",
   "version": "3.9.13"
  },
  "orig_nbformat": 4,
  "vscode": {
   "interpreter": {
    "hash": "56699ad186de687e8c88be56bb9159ab08e118de17f06b9ea44a37a44e066d8d"
   }
  }
 },
 "nbformat": 4,
 "nbformat_minor": 2
}
