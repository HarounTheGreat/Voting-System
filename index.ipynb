{
 "cells": [
  {
   "cell_type": "markdown",
   "metadata": {},
   "source": [
    "# Problem\n",
    "the problem is Manually analyzing Voters' opinions, which is time-consuming, and misleading data.\n",
    "# my solution:\n",
    "Obtain Report every hour from the massive amount of data by constructing a visualization dataset"
   ]
  },
  {
   "cell_type": "markdown",
   "metadata": {},
   "source": [
    "Import library "
   ]
  },
  {
   "cell_type": "code",
   "execution_count": 197,
   "metadata": {},
   "outputs": [],
   "source": [
    "import pandas as pd\n",
    "import numpy as np\n",
    "import matplotlib.pyplot as plt\n",
    "from openpyxl import Workbook\n",
    "import xlsxwriter\n",
    "import random"
   ]
  },
  {
   "cell_type": "markdown",
   "metadata": {},
   "source": [
    "### uploading the dataset: \n",
    "Population in every state: Population by state\n",
    "\n",
    "\n",
    "|Variable   | Explanation                     |\n",
    "|-----------|---------------------------------|\n",
    "|   N       |Number uniquely assigned to each State|\n",
    "|State      | State name                       |\n",
    "|Population | Population in this state        |\n",
    "\n",
    "\n",
    "Tunisia: This file contains cities name in tunisia \n",
    "\n",
    "|Variable   | Explanation                     |\n",
    "|-----------|---------------------------------|\n",
    "|   N       | Number uniquely assigned to each State|\n",
    "|Governorate| State Name                      |\n",
    "|Cities     | city name in this state         |"
   ]
  },
  {
   "cell_type": "code",
   "execution_count": 198,
   "metadata": {},
   "outputs": [],
   "source": [
    "Tunisia=pd.read_excel(r\"./Data/Tunisia.xlsx\")\n",
    "Tn_State=pd.read_excel(r\"./Data/Population in every state.xlsx\")"
   ]
  },
  {
   "cell_type": "markdown",
   "metadata": {},
   "source": [
    "### prepare to create a new excel sheet \n"
   ]
  },
  {
   "cell_type": "code",
   "execution_count": 199,
   "metadata": {},
   "outputs": [],
   "source": [
    "workbook = xlsxwriter.Workbook('./Data/Ex2.xlsx')\n",
    "worksheet = workbook.add_worksheet()"
   ]
  },
  {
   "cell_type": "markdown",
   "metadata": {},
   "source": [
    "This what we want to create simulation votting data\n",
    "\n",
    "|    | Variable   | Explanation                                                |\n",
    "|---:|:-----------|:-----------------------------------------------------------|\n",
    "|  0 | Id      | Number uniquely assigned to each voter                                      |\n",
    "|  1 | Opinion      | Opinion Yes or No                                      |\n",
    "|  2 | Age      | Voter Age                                      |\n",
    "|  3 | DateByY_M_D      | Date of Vote : Year/Month/Day                       |\n",
    "|  4 | Hour      | The Houre when vote is send                       |\n",
    "|  5 | City      | The city of the voter                       |\n",
    "|  6 | Gender      | Gender of the voter                       |\n",
    "\n"
   ]
  },
  {
   "cell_type": "code",
   "execution_count": 200,
   "metadata": {},
   "outputs": [
    {
     "data": {
      "text/plain": [
       "0"
      ]
     },
     "execution_count": 200,
     "metadata": {},
     "output_type": "execute_result"
    }
   ],
   "source": [
    "worksheet.write('A1', 'N°')\n",
    "worksheet.write('B1', 'Vote')\n",
    "worksheet.write('C1', 'Age')\n",
    "worksheet.write('D1', 'DateByY_M_D')\n",
    "worksheet.write('E1', 'Hour')\n",
    "worksheet.write('F1', 'City')\n",
    "worksheet.write('G1', 'Gender')\n"
   ]
  },
  {
   "cell_type": "markdown",
   "metadata": {},
   "source": [
    "Create lite Date containe all Date (1 week) \n",
    "\n",
    "between :\n",
    "1est of Novermber 2022 and 7th of Novermber 2022"
   ]
  },
  {
   "cell_type": "code",
   "execution_count": 201,
   "metadata": {},
   "outputs": [],
   "source": [
    "Date=[]\n",
    "for i in range(1,8):\n",
    "    t=\"2019-1\"+\"1\"+\"-\"+str(i)\n",
    "    Date.append(t)\n",
    "Op=[]\n",
    "for candidate in range(10):\n",
    "    for mp in range(random.randint(1,24)):\n",
    "        Op.append(candidate)"
   ]
  },
  {
   "cell_type": "markdown",
   "metadata": {},
   "source": [
    "Create List to save percentage of population in every state \n",
    "\n",
    "(we do that to know which state is more popular so it's going to have more voter  )"
   ]
  },
  {
   "cell_type": "code",
   "execution_count": 202,
   "metadata": {},
   "outputs": [],
   "source": [
    "Tot=Tn_State['Poplation'].sum()\n",
    "List=[]\n",
    "for i in Tn_State['Poplation']:\n",
    "    R=i*100/Tot\n",
    "    List.append(R*10)\n",
    "Tn_State['Per_State']=List"
   ]
  },
  {
   "cell_type": "markdown",
   "metadata": {},
   "source": [
    " ![img](images/Tn_population.jpg)"
   ]
  },
  {
   "cell_type": "code",
   "execution_count": 203,
   "metadata": {},
   "outputs": [],
   "source": [
    "Age=[]\n",
    "for i in range(18,100):\n",
    "    if(i>18 and i<65) and i!=32:\n",
    "        for k in range(66):\n",
    "            Age.append(str(i))\n",
    "    elif(i>65) and i!=32:\n",
    "        for k in range(10):\n",
    "            Age.append(str(i))\n",
    "    else:\n",
    "        for k in range(100):\n",
    "            Age.append(str(i))"
   ]
  },
  {
   "cell_type": "markdown",
   "metadata": {},
   "source": [
    " ![img](images/gender.png)"
   ]
  },
  {
   "cell_type": "code",
   "execution_count": 204,
   "metadata": {},
   "outputs": [
    {
     "name": "stdout",
     "output_type": "stream",
     "text": [
      "['female', 'female', 'female', 'female', 'female', 'female', 'female', 'female', 'female', 'female', 'female', 'female', 'female', 'female', 'female', 'female', 'female', 'female', 'female', 'female', 'female', 'female', 'female', 'female', 'female', 'female', 'female', 'female', 'female', 'female', 'female', 'female', 'female', 'female', 'female', 'female', 'female', 'female', 'female', 'female', 'female', 'female', 'female', 'female', 'female', 'female', 'female', 'female', 'female', 'female', 'female', 'female', 'male', 'male', 'male', 'male', 'male', 'male', 'male', 'male', 'male', 'male', 'male', 'male', 'male', 'male', 'male', 'male', 'male', 'male', 'male', 'male', 'male', 'male', 'male', 'male', 'male', 'male', 'male', 'male', 'male', 'male', 'male', 'male', 'male', 'male', 'male', 'male', 'male', 'male', 'male', 'male', 'male', 'male', 'male', 'male', 'male', 'male', 'male', 'male']\n"
     ]
    }
   ],
   "source": [
    "Gender=[]\n",
    "for i in range(100):\n",
    "    if(i<52):\n",
    "        Gender.append(\"female\")\n",
    "    else:\n",
    "        Gender.append(\"male\")\n",
    "print(Gender)"
   ]
  },
  {
   "cell_type": "markdown",
   "metadata": {},
   "source": [
    "Create list contain all state in tunisia"
   ]
  },
  {
   "cell_type": "code",
   "execution_count": 205,
   "metadata": {},
   "outputs": [],
   "source": [
    "R_State=[]\n",
    "for j in range(24):\n",
    "    for k in range(round(Tn_State['Per_State'][j])):\n",
    "        stat=Tn_State['State'][j]\n",
    "        R_State.append(stat)"
   ]
  },
  {
   "cell_type": "markdown",
   "metadata": {},
   "source": [
    "Create dictionary contains all states as key and all cities\n",
    "\n",
    "**Exp:**\n",
    "\n",
    "\"Zaghouan\" : \"El Fahs\", \"Djebel Oust\", \"Bir Mcherga\", \"Nadhour\",\"Zaghouan\" , \"Zriba\""
   ]
  },
  {
   "cell_type": "code",
   "execution_count": 206,
   "metadata": {},
   "outputs": [],
   "source": [
    "All_State=[\"l'Ariana\"]\n",
    "S=\"l'Ariana\"\n",
    "Disc={}\n",
    "L=[]\n",
    "for i in range(264):\n",
    "    if(S==Tunisia['Governorate'][i]):\n",
    "        L.append(Tunisia['Cities'][i])\n",
    "    else:\n",
    "        S=Tunisia['Governorate'][i]\n",
    "        Disc[Tunisia['Governorate'][i-1]]=L\n",
    "        L=[]\n",
    "        L.append(Tunisia['Cities'][i])\n",
    "        All_State.append(S)\n",
    "Disc[Tunisia['Governorate'][i-1]]=L"
   ]
  },
  {
   "cell_type": "markdown",
   "metadata": {},
   "source": [
    "Verification "
   ]
  },
  {
   "cell_type": "code",
   "execution_count": 207,
   "metadata": {},
   "outputs": [
    {
     "name": "stdout",
     "output_type": "stream",
     "text": [
      "24\n"
     ]
    }
   ],
   "source": [
    "print(len(All_State))"
   ]
  },
  {
   "cell_type": "markdown",
   "metadata": {},
   "source": [
    "Now we are going to fill our new Excel sheet using random responses from virtual voters\n"
   ]
  },
  {
   "cell_type": "code",
   "execution_count": 208,
   "metadata": {},
   "outputs": [],
   "source": [
    "Votters=int(input(\"Please enter the number of voters\"))"
   ]
  },
  {
   "cell_type": "code",
   "execution_count": 209,
   "metadata": {},
   "outputs": [],
   "source": [
    "for i in range(2,Votters):\n",
    "    ii=str(i)\n",
    "    A='A'+ii\n",
    "    B='B'+ii\n",
    "    C='C'+ii\n",
    "    D='D'+ii\n",
    "    E='E'+ii\n",
    "    F='F'+ii\n",
    "    G='G'+ii\n",
    "    A1 = ii\n",
    "    B1 = random.choice(Op)\n",
    "    C1 = random.choice(Age)\n",
    "    D1 = random.choice(Date)\n",
    "    E1 = str(random.randint(1,24))+\":00\"\n",
    "    Random_State=random.choice(All_State)\n",
    "    Random_State_city = random.choice(Disc[Random_State])\n",
    "    F1=Random_State_city+', '+Random_State+\", Tunisia\" \n",
    "    G1=random.choice(Gender)\n",
    "    worksheet.write(A, A1)\n",
    "    worksheet.write(B, B1)\n",
    "    worksheet.write(C, C1)\n",
    "    worksheet.write(D, D1)\n",
    "    worksheet.write(E, E1)\n",
    "    worksheet.write(F, F1)\n",
    "    worksheet.write(G, G1)"
   ]
  },
  {
   "cell_type": "markdown",
   "metadata": {},
   "source": [
    "Final Step Save the CSV document"
   ]
  },
  {
   "cell_type": "code",
   "execution_count": 210,
   "metadata": {},
   "outputs": [],
   "source": [
    "workbook.close()"
   ]
  }
 ],
 "metadata": {
  "kernelspec": {
   "display_name": "Python 3.9.13 ('base')",
   "language": "python",
   "name": "python3"
  },
  "language_info": {
   "codemirror_mode": {
    "name": "ipython",
    "version": 3
   },
   "file_extension": ".py",
   "mimetype": "text/x-python",
   "name": "python",
   "nbconvert_exporter": "python",
   "pygments_lexer": "ipython3",
   "version": "3.9.13"
  },
  "orig_nbformat": 4,
  "vscode": {
   "interpreter": {
    "hash": "56699ad186de687e8c88be56bb9159ab08e118de17f06b9ea44a37a44e066d8d"
   }
  }
 },
 "nbformat": 4,
 "nbformat_minor": 2
}
